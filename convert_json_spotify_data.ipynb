{
 "cells": [
  {
   "cell_type": "code",
   "execution_count": 1,
   "metadata": {},
   "outputs": [],
   "source": [
    "import os\n",
    "import json\n",
    "import pandas as pd\n",
    "\n",
    "def union_json_files(directory):\n",
    "    \"\"\"\n",
    "    Union multiple JSON files from a directory into a single dataframe.\n",
    "    \n",
    "    Parameters:\n",
    "    - directory: Path to the directory containing the JSON files\n",
    "    \n",
    "    Returns:\n",
    "    - DataFrame containing unioned data\n",
    "    \"\"\"\n",
    "    # List files in the directory that start with \"Streaming_\" and end with \".json\"\n",
    "    file_paths = [os.path.join(directory, file) for file in os.listdir(directory) \n",
    "                  if file.startswith(\"Streaming_\") and file.endswith(\".json\")]\n",
    "    \n",
    "    # Initialize an empty list to store dataframes\n",
    "    dfs = []\n",
    "    \n",
    "    # Read the structure of the first file to set as a reference\n",
    "    with open(file_paths[0], \"r\") as file:\n",
    "        sample_data = json.load(file)\n",
    "    sample_df = pd.DataFrame(sample_data)\n",
    "    \n",
    "    # Iterate over each file path\n",
    "    for path in file_paths:\n",
    "        with open(path, \"r\") as file:\n",
    "            data = json.load(file)\n",
    "        \n",
    "        # Convert the JSON data into a dataframe\n",
    "        df = pd.DataFrame(data)\n",
    "        \n",
    "        # Check if the structure of this dataframe matches the sample dataframe\n",
    "        if set(df.columns) != set(sample_df.columns):\n",
    "            raise ValueError(f\"The structure of file {path} is not the same as the sample.\")\n",
    "        \n",
    "        # Append the dataframe to the list\n",
    "        dfs.append(df)\n",
    "    \n",
    "    # Concatenate all the dataframes together\n",
    "    result_df = pd.concat(dfs, ignore_index=True)\n",
    "    \n",
    "    return result_df\n",
    "\n",
    "# Directory containing the JSON files\n",
    "directory = r\"Path to the folder with your .json streaming history files\"\n",
    "\n",
    "# Union the files\n",
    "unioned_df = union_json_files(directory)\n",
    "unioned_df.to_csv(directory + \"_full_streaming_history.csv\")\n"
   ]
  }
 ],
 "metadata": {
  "kernelspec": {
   "display_name": "minimal_ds",
   "language": "python",
   "name": "python3"
  },
  "language_info": {
   "codemirror_mode": {
    "name": "ipython",
    "version": 3
   },
   "file_extension": ".py",
   "mimetype": "text/x-python",
   "name": "python",
   "nbconvert_exporter": "python",
   "pygments_lexer": "ipython3",
   "version": "3.11.4"
  },
  "orig_nbformat": 4
 },
 "nbformat": 4,
 "nbformat_minor": 2
}
